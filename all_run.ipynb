{
 "metadata": {
  "language_info": {
   "codemirror_mode": {
    "name": "ipython",
    "version": 3
   },
   "file_extension": ".py",
   "mimetype": "text/x-python",
   "name": "python",
   "nbconvert_exporter": "python",
   "pygments_lexer": "ipython3",
   "version": "3.8.2-final"
  },
  "orig_nbformat": 2,
  "kernelspec": {
   "name": "python3",
   "display_name": "Python 3.8.2 64-bit",
   "metadata": {
    "interpreter": {
     "hash": "6c615a2d9dc6fb4cf72af2c5616cf5cc90c133b049d25dfe8588cde926ba49a0"
    }
   }
  }
 },
 "nbformat": 4,
 "nbformat_minor": 2,
 "cells": [
  {
   "cell_type": "code",
   "execution_count": 1,
   "metadata": {},
   "outputs": [],
   "source": [
    "import folium\n",
    "from main import main_train\n",
    "import pickle\n",
    "from viewer import get_position, view"
   ]
  },
  {
   "cell_type": "code",
   "execution_count": 4,
   "metadata": {},
   "outputs": [],
   "source": [
    "countries = [\"北米\", \"オセアニア\", \"欧州\", \"中国\", \"台湾\", \"韓国\", \"香港\", \"東南アジア\"]"
   ]
  },
  {
   "cell_type": "code",
   "execution_count": 5,
   "metadata": {},
   "outputs": [],
   "source": [
    "def save(result, country):\n",
    "    file_name = \"result/{}.pkl\".format(country)\n",
    "    with open(file_name, \"wb\") as f:\n",
    "        pickle.dump(result, f)"
   ]
  },
  {
   "cell_type": "code",
   "execution_count": 6,
   "metadata": {},
   "outputs": [
    {
     "output_type": "stream",
     "name": "stdout",
     "text": [
      "1h 55m 37s\n",
      "1h 56m 12s\n",
      "1h 48m 56s\n",
      "1h 35m 40s\n",
      "1h 53m 10s\n",
      "1h 54m 1s\n",
      "2h 1m 30s\n",
      "1h 50m 42s\n"
     ]
    }
   ],
   "source": [
    "for country in countries:\n",
    "    unique_results = main_train(country=country, num_loop=96, train_loop=10_000_000)\n",
    "    save(unique_results, country)\n",
    "    for i in [0, 2, 4]:\n",
    "        if i < len(unique_results):\n",
    "            route = unique_results[i][1]\n",
    "            view(route).save('result/{}_{}.html'.format(country, i + 1))"
   ]
  },
  {
   "cell_type": "code",
   "execution_count": 7,
   "metadata": {},
   "outputs": [
    {
     "output_type": "stream",
     "name": "stdout",
     "text": [
      "complete\n"
     ]
    }
   ],
   "source": [
    "print(\"complete\")"
   ]
  },
  {
   "cell_type": "code",
   "execution_count": 8,
   "metadata": {},
   "outputs": [],
   "source": [
    "def load(country):\n",
    "    file_name = \"result/{}.pkl\".format(country)\n",
    "    with open(file_name, \"rb\") as f:\n",
    "        return pickle.load(f)"
   ]
  }
 ]
}