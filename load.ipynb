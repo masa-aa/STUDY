{
 "metadata": {
  "language_info": {
   "codemirror_mode": {
    "name": "ipython",
    "version": 3
   },
   "file_extension": ".py",
   "mimetype": "text/x-python",
   "name": "python",
   "nbconvert_exporter": "python",
   "pygments_lexer": "ipython3",
   "version": "3.8.2-final"
  },
  "orig_nbformat": 2,
  "kernelspec": {
   "name": "python3",
   "display_name": "Python 3.8.2 64-bit",
   "metadata": {
    "interpreter": {
     "hash": "6c615a2d9dc6fb4cf72af2c5616cf5cc90c133b049d25dfe8588cde926ba49a0"
    }
   }
  }
 },
 "nbformat": 4,
 "nbformat_minor": 2,
 "cells": [
  {
   "cell_type": "code",
   "execution_count": 10,
   "metadata": {},
   "outputs": [],
   "source": [
    "import folium\n",
    "from main import main_train\n",
    "import pickle"
   ]
  },
  {
   "cell_type": "code",
   "execution_count": 11,
   "metadata": {},
   "outputs": [],
   "source": [
    "def get_position():\n",
    "    \"\"\"緯度, 経度情報\"\"\"\n",
    "    pos = \\\n",
    "        {'清水寺': (34.994856, 135.785046),\n",
    "        '二条城': (35.01423, 135.748218),\n",
    "        '伏見稲荷': (34.96714, 135.772672),\n",
    "        '金閣寺': (35.03937, 135.729243),\n",
    "        'ギオンコーナー': (35.001551, 135.775822),\n",
    "        '嵐山': (35.009449, 135.666773),\n",
    "        '祇園': (35.003782, 135.777245),\n",
    "        '八坂神社': (35.003656, 135.778553),\n",
    "        '京都御所': (35.025414, 135.762125),\n",
    "        '銀閣寺': (35.027021, 135.798206),\n",
    "        '錦市場': (35.005008, 135.764902),\n",
    "        '京都タワー': (34.987531, 135.759324),\n",
    "        '京都駅': (34.985849, 135.758767),\n",
    "        '龍安寺': (35.034494, 135.718263),\n",
    "        '伏見': (34.932416, 135.771056),\n",
    "        '東寺': (34.980598, 135.747786),\n",
    "        '高台寺': (35.00051, 135.781218),\n",
    "        '南禅寺': (35.011414, 135.794484),\n",
    "        '東福寺': (34.976064, 135.773777),\n",
    "        '平安神宮': (35.015982, 135.782426),\n",
    "        '嵐山モンキーパーク': (35.011408, 135.676206),\n",
    "        '東山': (34.992396, 135.775797),\n",
    "        '河原町': (35.002111, 135.769279),\n",
    "        '三十三間堂': (34.987885, 135.771713),\n",
    "        '下鴨神社': (35.038037, 135.772773)}\n",
    "    return pos"
   ]
  },
  {
   "cell_type": "code",
   "execution_count": 12,
   "metadata": {},
   "outputs": [],
   "source": [
    "def view(route, init=(34.985849, 135.758767), zoom_start=13):\n",
    "    \"\"\"\n",
    "     route を与えるとその route を図示したものを返す.\n",
    "     route[i] : i 番目に訪れる観光地の名前\n",
    "     init : mapを表示したときの中心地点 (標準は京都駅)\n",
    "     zoom_start : mapを表示した時の初期の大きさ\n",
    "    \"\"\"\n",
    "    pos = get_position()\n",
    "    map = folium.Map(location=init, zoom_start=zoom_start)\n",
    "    # プロット\n",
    "    # for p in pos.values():\n",
    "    #     folium.Marker(location=p).add_to(map) \n",
    "    lines = []\n",
    "    for i in range(len(route) - 1):\n",
    "        lines.append({\"from\": pos[route[i]], \"to\": pos[route[i + 1]]})\n",
    "\n",
    "    for line in lines:\n",
    "        folium.PolyLine(\n",
    "            locations=[line[\"from\"], line[\"to\"]]\n",
    "        ).add_to(map)\n",
    "\n",
    "    return map"
   ]
  },
  {
   "cell_type": "code",
   "execution_count": 13,
   "metadata": {},
   "outputs": [],
   "source": [
    "countries = [\"北米\", \"オセアニア\", \"欧州\", \"中国\", \"台湾\", \"韓国\", \"香港\", \"東南アジア\"]"
   ]
  },
  {
   "cell_type": "code",
   "execution_count": 14,
   "metadata": {},
   "outputs": [],
   "source": [
    "def save(result, country):\n",
    "    file_name = \"result/{}.pkl\".format(country)\n",
    "    with open(file_name, \"wb\") as f:\n",
    "        pickle.dump(result, f)"
   ]
  },
  {
   "cell_type": "code",
   "execution_count": 15,
   "metadata": {},
   "outputs": [],
   "source": [
    "def load(country):\n",
    "    file_name = \"result/{}.pkl\".format(country)\n",
    "    with open(file_name, \"rb\") as f:\n",
    "        return pickle.load(f)"
   ]
  },
  {
   "cell_type": "code",
   "execution_count": 16,
   "metadata": {},
   "outputs": [],
   "source": [
    "unique_result = load(\"中国\")"
   ]
  },
  {
   "cell_type": "code",
   "execution_count": null,
   "metadata": {},
   "outputs": [],
   "source": []
  }
 ]
}